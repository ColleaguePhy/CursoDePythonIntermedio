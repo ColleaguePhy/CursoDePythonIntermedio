{
 "cells": [
  {
   "cell_type": "markdown",
   "metadata": {},
   "source": [
    "## Assert statements\n",
    "Tenemos el código, si hay un assert statement devuelve un error, de lo contrario lo ejecuta\n",
    "\n",
    "**asert** *conición*, mensaje de error --> Afirmo que esta condición es verdadera,  si no imprimo este mensaje de error"
   ]
  },
  {
   "cell_type": "code",
   "execution_count": 1,
   "metadata": {},
   "outputs": [
    {
     "ename": "AssertionError",
     "evalue": "No se puede ingresar una cadena vacia",
     "output_type": "error",
     "traceback": [
      "\u001b[1;31m---------------------------------------------------------------------------\u001b[0m",
      "\u001b[1;31mAssertionError\u001b[0m                            Traceback (most recent call last)",
      "\u001b[1;32mc:\\Users\\migue\\Escritorio\\CursoDePythonIntermedio\\assert_statements.ipynb Cell 2'\u001b[0m in \u001b[0;36m<cell line: 5>\u001b[1;34m()\u001b[0m\n\u001b[0;32m      <a href='vscode-notebook-cell:/c%3A/Users/migue/Escritorio/CursoDePythonIntermedio/assert_statements.ipynb#ch0000001?line=1'>2</a>\u001b[0m     \u001b[39massert\u001b[39;00m \u001b[39mlen\u001b[39m(string) \u001b[39m>\u001b[39m \u001b[39m0\u001b[39m, \u001b[39m'\u001b[39m\u001b[39mNo se puede ingresar una cadena vacia\u001b[39m\u001b[39m'\u001b[39m\n\u001b[0;32m      <a href='vscode-notebook-cell:/c%3A/Users/migue/Escritorio/CursoDePythonIntermedio/assert_statements.ipynb#ch0000001?line=2'>3</a>\u001b[0m     \u001b[39mreturn\u001b[39;00m string \u001b[39m==\u001b[39m string[::\u001b[39m-\u001b[39m\u001b[39m1\u001b[39m]\n\u001b[1;32m----> <a href='vscode-notebook-cell:/c%3A/Users/migue/Escritorio/CursoDePythonIntermedio/assert_statements.ipynb#ch0000001?line=4'>5</a>\u001b[0m \u001b[39mprint\u001b[39m(palindrome(\u001b[39m'\u001b[39;49m\u001b[39m'\u001b[39;49m))\n",
      "\u001b[1;32mc:\\Users\\migue\\Escritorio\\CursoDePythonIntermedio\\assert_statements.ipynb Cell 2'\u001b[0m in \u001b[0;36mpalindrome\u001b[1;34m(string)\u001b[0m\n\u001b[0;32m      <a href='vscode-notebook-cell:/c%3A/Users/migue/Escritorio/CursoDePythonIntermedio/assert_statements.ipynb#ch0000001?line=0'>1</a>\u001b[0m \u001b[39mdef\u001b[39;00m \u001b[39mpalindrome\u001b[39m(string):\n\u001b[1;32m----> <a href='vscode-notebook-cell:/c%3A/Users/migue/Escritorio/CursoDePythonIntermedio/assert_statements.ipynb#ch0000001?line=1'>2</a>\u001b[0m     \u001b[39massert\u001b[39;00m \u001b[39mlen\u001b[39m(string) \u001b[39m>\u001b[39m \u001b[39m0\u001b[39m, \u001b[39m'\u001b[39m\u001b[39mNo se puede ingresar una cadena vacia\u001b[39m\u001b[39m'\u001b[39m\n\u001b[0;32m      <a href='vscode-notebook-cell:/c%3A/Users/migue/Escritorio/CursoDePythonIntermedio/assert_statements.ipynb#ch0000001?line=2'>3</a>\u001b[0m     \u001b[39mreturn\u001b[39;00m string \u001b[39m==\u001b[39m string[::\u001b[39m-\u001b[39m\u001b[39m1\u001b[39m]\n",
      "\u001b[1;31mAssertionError\u001b[0m: No se puede ingresar una cadena vacia"
     ]
    }
   ],
   "source": [
    "def palindrome(string):\n",
    "    assert len(string) > 0, 'No se puede ingresar una cadena vacia'\n",
    "    return string == string[::-1]\n",
    "\n",
    "print(palindrome(''))"
   ]
  },
  {
   "cell_type": "code",
   "execution_count": null,
   "metadata": {},
   "outputs": [],
   "source": []
  },
  {
   "cell_type": "code",
   "execution_count": null,
   "metadata": {},
   "outputs": [],
   "source": []
  }
 ],
 "metadata": {
  "kernelspec": {
   "display_name": "Python 3.9.7 ('venv': venv)",
   "language": "python",
   "name": "python3"
  },
  "language_info": {
   "codemirror_mode": {
    "name": "ipython",
    "version": 3
   },
   "file_extension": ".py",
   "mimetype": "text/x-python",
   "name": "python",
   "nbconvert_exporter": "python",
   "pygments_lexer": "ipython3",
   "version": "3.9.7"
  },
  "orig_nbformat": 4,
  "vscode": {
   "interpreter": {
    "hash": "dacdac0621f42b13f425b31fc2343acbe62cbb52d0e8709097d3d7ec6a35f2f5"
   }
  }
 },
 "nbformat": 4,
 "nbformat_minor": 2
}
