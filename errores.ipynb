{
 "cells": [
  {
   "cell_type": "markdown",
   "metadata": {},
   "source": [
    "## Los errores en el código\n",
    "\n",
    "### Python no nos avisa\n",
    "Programamos mal, revisar nuestro programa de principio a fin, una forma de esto es debuging\n",
    "\n",
    "### Python nos avisa\n",
    "#### SintaxError (Errores de sintaxis)\n",
    "Escribimos una palabra clave (typo), el programa no se ejecuta\n",
    "\n",
    "#### Exception (Excepciones)\n",
    "Producen un colapso o interrupción de la lógica del programa en alguna línea en específico por ejemplo (todas las líneas anteriores se ejecutan), pueden ser de varios tipos, generalmente aparecen cuando no existe un componente clave en la ejecución o hay alguna imposibilidad lógica (matemática) para efectuar la instrucción, tambipen pueden generarse dentro del código o fuera de el (elevar una excepción)\n",
    "\n",
    "* **KeyboardInterrupt:**  pulsamos ctrl + c en la consola de python y todo el proceso interativo se cierra. Python eleva la excepción.\n",
    "* **KeyError:** intentamos acceder a una llave en un diccionario que no existe.\n",
    "* **IndexError:** intentamos acceder a un indice de un lista, el cual no existe.\n",
    "* **ZeroDivisionError:** intetamos dividir un número entre cero.\n",
    "* **ImportError:**  intetamos importar un módulo y algo en este falla.\n",
    "\n",
    "#### Traceback\n",
    "* La manera correcta de leer un traceback es iniciar por el final, en el caso de un error de sintaxis nos indicará en qué línea se encuentra dicho error.\n",
    "* En el caso de excepciones la última línea nos indicará el tipo de exepcion que se generó (generalmente son autoexplicativas pero si no entienedes que paso puedes buscar este error)\n",
    "* La penúltima línea nos indicará dende se encuentra el error (archivo y línea)\n",
    "* La antepenúltima línea nos muestra “most recent call last” lo que significa que la llamada más reciente es la última (el programa se cerró después de esa llamada, se genero un error)\n",
    "\n"
   ]
  },
  {
   "cell_type": "code",
   "execution_count": null,
   "metadata": {},
   "outputs": [],
   "source": []
  }
 ],
 "metadata": {
  "kernelspec": {
   "display_name": "Python 3.9.7 ('venv': venv)",
   "language": "python",
   "name": "python3"
  },
  "language_info": {
   "name": "python",
   "version": "3.9.7"
  },
  "orig_nbformat": 4,
  "vscode": {
   "interpreter": {
    "hash": "dacdac0621f42b13f425b31fc2343acbe62cbb52d0e8709097d3d7ec6a35f2f5"
   }
  }
 },
 "nbformat": 4,
 "nbformat_minor": 2
}
