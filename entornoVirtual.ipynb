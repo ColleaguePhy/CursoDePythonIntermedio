{
 "cells": [
  {
   "cell_type": "markdown",
   "metadata": {},
   "source": [
    "## ¿Qué es un entorno virtual?\n",
    "**Módulo:** es código escrito por otra persona que a nosotros nos sirve para resolver un problema.\n",
    "<img src=\"Entornos.png\">\n",
    "\n",
    "Es tener un *python* separado para cada proyecto\n",
    "\n",
    "\n",
    "## El primer paso profesional: creación de un entorno virtual\n",
    "1) Crear una carpeta del proyecto. (mkdir con git bash)\n",
    "2) Abrir carpeta (cd con git bash)\n",
    "3) Inicializar con git (repositorio)\n",
    "\n",
    "**Para mi caso particular que uso anaconda en windows, debo abrir el prompt y ahí hacer el proceso**\n",
    "\n",
    "4) python -m venv nombre_entorno (m = modulo interno de python, venv = modulo entono virtual)\n",
    "\n",
    "**Activacion del entorno virtual:**\n",
    "6) .\\prueba\\Scripts\\activate\n",
    "\n",
    "**ADesactivacion del entorno virtual:**\n",
    "7) deactivate\n",
    "\n",
    "\n",
    "## Instalación de dependencias con pip\n",
    "\n",
    "PIP: Packege Installer for Python, nos permite instalar modulos que no estan incorporados en python\n",
    "\n",
    "* pip install modulo  --> forma para instalar un modulo, donde modulo = nombre del modulo.\n",
    "* pip freeze --> muestra todos los paquetes instalados en tu ambiente virtual.\n",
    "* pip freeze > riquirements.txt  --> Crea y aguarda un archivo .txt con la lista de las dependencias (otros modulos) que un modulo necesita para servi, con sus respectivas versiones. (Importante porque esto sirve para que otra persona sepan con que modulos y verciones se creo mi programa)\n",
    "* pip install -r riquirements.txt  --> forma para instalar las dependencias (modulos con las versiones requeridas) que un programa tenga para funcional."
   ]
  },
  {
   "cell_type": "markdown",
   "metadata": {},
   "source": [
    " "
   ]
  },
  {
   "cell_type": "code",
   "execution_count": null,
   "metadata": {},
   "outputs": [],
   "source": []
  }
 ],
 "metadata": {
  "kernelspec": {
   "display_name": "Python 3.9.7 ('venv': venv)",
   "language": "python",
   "name": "python3"
  },
  "language_info": {
   "codemirror_mode": {
    "name": "ipython",
    "version": 3
   },
   "file_extension": ".py",
   "mimetype": "text/x-python",
   "name": "python",
   "nbconvert_exporter": "python",
   "pygments_lexer": "ipython3",
   "version": "3.9.7"
  },
  "orig_nbformat": 4,
  "vscode": {
   "interpreter": {
    "hash": "dacdac0621f42b13f425b31fc2343acbe62cbb52d0e8709097d3d7ec6a35f2f5"
   }
  }
 },
 "nbformat": 4,
 "nbformat_minor": 2
}
