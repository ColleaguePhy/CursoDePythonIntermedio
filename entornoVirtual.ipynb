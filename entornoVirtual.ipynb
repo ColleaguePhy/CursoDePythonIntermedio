{
 "cells": [
  {
   "cell_type": "markdown",
   "metadata": {},
   "source": [
    "## ¿Qué es un entorno virtual?\n",
    "**Módulo:** es código escrito por otra persona que a nosotros nos sirve para resolver un problema.\n",
    "<img src=\"Entornos.png\">\n",
    "\n",
    "Es tener un *python* separado para cada proyecto\n",
    "\n",
    "\n",
    "## El primer paso profesional: creación de un entorno virtual\n",
    "Para mi caso particular que suo anaconda en windows, debo abrir el prompt y ahí hacer el proceso\n",
    "\n",
    "python -m venv nombreentorno\n",
    ".\\prueba\\Scripts\\activate\n",
    "\n",
    "## Instalación de dependencias con pip\n",
    "PIP: Packege Installer for Python, nos permite instalar modulos que no estan incorporados en python\n",
    "\n",
    "pip freeze --> muestra todos los paquetes instalados en tu ambiente virtual"
   ]
  },
  {
   "cell_type": "markdown",
   "metadata": {},
   "source": [
    " "
   ]
  },
  {
   "cell_type": "code",
   "execution_count": null,
   "metadata": {},
   "outputs": [],
   "source": []
  }
 ],
 "metadata": {
  "kernelspec": {
   "display_name": "Python 3.9.7 ('venv': venv)",
   "language": "python",
   "name": "python3"
  },
  "language_info": {
   "codemirror_mode": {
    "name": "ipython",
    "version": 3
   },
   "file_extension": ".py",
   "mimetype": "text/x-python",
   "name": "python",
   "nbconvert_exporter": "python",
   "pygments_lexer": "ipython3",
   "version": "3.9.7"
  },
  "orig_nbformat": 4,
  "vscode": {
   "interpreter": {
    "hash": "dacdac0621f42b13f425b31fc2343acbe62cbb52d0e8709097d3d7ec6a35f2f5"
   }
  }
 },
 "nbformat": 4,
 "nbformat_minor": 2
}
