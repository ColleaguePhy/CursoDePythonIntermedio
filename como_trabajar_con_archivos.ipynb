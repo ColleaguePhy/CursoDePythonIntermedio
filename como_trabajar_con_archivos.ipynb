{
 "cells": [
  {
   "cell_type": "markdown",
   "metadata": {},
   "source": [
    "## ¿Cómo trabajar con archivos?\n",
    "\n",
    "### Tipos de archivos\n",
    "**Archivos de Texto**\n",
    "Los bytes que solo representan letras, números, simbolos...\n",
    "\n",
    ".json - .xml - .txt - .py - .css - .csv - .js\n",
    "\n",
    "**Archivos binarios**\n",
    "Los bytes son más complejos\n",
    "\n",
    ".png - .jpg - .dll - .mp3 - .mp4 - .avi\n",
    "\n",
    "En python vamos a usar archivos de texto\n",
    "\n",
    "\n",
    "### Modos de apertura\n",
    "* **R** Lectura\n",
    "* **W** Escritura (sobreescribir)\n",
    "* **A** Escritura (agrega al final)"
   ]
  },
  {
   "cell_type": "code",
   "execution_count": null,
   "metadata": {},
   "outputs": [],
   "source": [
    "# with open('./ruta/del/archivo.txt', 'r') as f:"
   ]
  },
  {
   "cell_type": "markdown",
   "metadata": {},
   "source": []
  }
 ],
 "metadata": {
  "kernelspec": {
   "display_name": "Python 3.9.7 ('venv': venv)",
   "language": "python",
   "name": "python3"
  },
  "language_info": {
   "name": "python",
   "version": "3.9.7"
  },
  "orig_nbformat": 4,
  "vscode": {
   "interpreter": {
    "hash": "dacdac0621f42b13f425b31fc2343acbe62cbb52d0e8709097d3d7ec6a35f2f5"
   }
  }
 },
 "nbformat": 4,
 "nbformat_minor": 2
}
