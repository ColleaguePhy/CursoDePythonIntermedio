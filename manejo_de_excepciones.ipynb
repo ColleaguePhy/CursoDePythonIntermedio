{
 "cells": [
  {
   "cell_type": "markdown",
   "metadata": {},
   "source": [
    "## Manejo de excepciones\n",
    "* **TRY (probar):** En el try se coloca código que esperamos que pueda lanzar algún error.\n",
    "* **EXCEPT (excepto que):** En el except se maneja el error, es decir, si ocurre un error dentro del bloque de código del try, se deja de ejecutar el código del try y se ejecuta lo que se haya definido en el Except.\n",
    "* **ELSE:** El else se ejecuta sólo si no hubo ninguna excepción lanzada desde el try\n",
    "* **FINALLY:** Se ejecuta SIEMPRE, haya sido lanzada la excepción o no haya sido lanzada.\n",
    "* **RAISE:**  Esta instrucción nos permite generar errores, es decir crear nuestros propios errores cuando detectemos que nuestro programa no actúa como debería con cierto tipo de datos"
   ]
  },
  {
   "cell_type": "code",
   "execution_count": null,
   "metadata": {},
   "outputs": [],
   "source": []
  }
 ],
 "metadata": {
  "kernelspec": {
   "display_name": "Python 3.9.7 ('venv': venv)",
   "language": "python",
   "name": "python3"
  },
  "language_info": {
   "name": "python",
   "version": "3.9.7"
  },
  "orig_nbformat": 4,
  "vscode": {
   "interpreter": {
    "hash": "dacdac0621f42b13f425b31fc2343acbe62cbb52d0e8709097d3d7ec6a35f2f5"
   }
  }
 },
 "nbformat": 4,
 "nbformat_minor": 2
}
