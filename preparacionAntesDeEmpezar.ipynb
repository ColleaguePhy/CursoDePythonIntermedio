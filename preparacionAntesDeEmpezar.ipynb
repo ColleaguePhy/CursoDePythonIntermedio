{
 "cells": [
  {
   "cell_type": "markdown",
   "metadata": {},
   "source": [
    "# PREPARACIÓN ANTES DE EMPEZAR\n",
    "\n",
    "## Algunas cosas que aprenderás sobre Python en este curso\n",
    "\n",
    "### Requisitos\n",
    "- Curso básico de python\n",
    "- Curso profesional de Git - GitHub\n",
    "\n",
    "## El Zen de Python\n",
    "* **Bello es mejor que feo:**\n",
    "Pyhton es estéticamente superior a cualquier otro lenguaje de programación. Al momento de escribir código, es mejor que sea de manera limpia y estética.\n",
    "* **Explícito es mejor que implícito:**\n",
    "Hacer más fácil que las otras personas entiendan el código.\n",
    "* **Simple es mejor que complejo:**\n",
    "Es mejor tener una implementación simple, que ocupe pocas lineas de código y sea entendible, a que sea una larga y complicada.\n",
    "* **Complejo es mejor que complicado:**\n",
    "Si tenemos que extendernos en la implementación y hacerla más compleja para que el código si se entienda, esto es mejor que hacerlo simple y mal.\n",
    "* **Plano es mejor que anidado:**\n",
    "El anidamiento es cuando tenemos un bloque de código dentro de otro bloque de código (dependiendo de este). Esto se nota en Python por la identación, nos quedarían estos bloques muy corridos a la derecha.\n",
    "Es mejor evitar el anidamiento, y hacer las cosas de manera plana.\n",
    "* **Espaciado es mejor que denso:**\n",
    "Por la identación de Python (sus sangrías), este principio se nos hace imposible de esquivar. El código inevitablemente es espaciado.\n",
    "* **La legibilidad es importante:**\n",
    "Es importante que otros programadores puedan entender lo que estamos escribiendo. Esto hace más fáciles las cosas cuando trabajemos con otros en los proyectos.\n",
    "* **Los casos especiales no son lo suficientemente especiales como para romper las reglas (sin embargo, la practicidad le gana a la pureza):**\n",
    "Siempre que podamos respetar estas reglas que nos plantea Python, es mejor así. Sin embargo, si por el hecho de hacer un código muy puro o muy ‘Pythonista’, este pierde legibilidad, es mejor ser más prácticos y romper o saltearnos algunas de estas reglas para que el código sea más eficiente. Por lo tanto, llegado el momento debermos decidir si es mejor hacer las cosas de manera pura o práctica.\n",
    "* **Los errores nunca deberían pasar silenciosamente (a menos que se silencien explícitamente):**\n",
    "Manejar los erroes es fundamental. Cada error nos dice algo y hay que prestarle atención. A menos que seas capaz de silenciar un error explícitamente, aunque para esto hay que tener criterio.\n",
    "* **Frente a la ambiguedad, evitar la tentación de adivinar:**\n",
    "Nuestro código debería solamente tener una interpretación. Si en un contexto significa algo, y en otro otra cosa, es mejor que lo revisemos y busquemos una solución.\n",
    "* **Debería haber una, y preferiblemente sola, una manera obvia de hacerlo. (A pesar de que esa manera no sea obvia a menos que seas holandés):**\n",
    "Esto hace referencia al creador de Python ''Guido van Rossum\", que de manera muy inteligente encontrar las soluciones precisas a los problemas, y deberíamos imitarlo.\n",
    "* **Ahora es mejor que nunca:**\n",
    "Es mejor desarrollar nuestra solución cuánto antes, no dejarlo para mañana o para mas adelante.\n",
    "* **A pesar de que nunca es muchas veces mejor que ahora mismo:**\n",
    "Si por hacer las cosas ya y tenemos poco tiempo, si es mejor dejarlo para después y no hacerlo apurado y mal.\n",
    "* **Si la implementación es díficil de explicar, es una mala idea, y si es fácil de explicar, es una buena idea:**\n",
    "Si somos capaces de explicar nuestra implementación a otros desarrolladores paso a paso, es una buena idea. En cambio si no podemos hacerlo, significa que ni nosotros entendemos la implementación y deberíamos repensar nuestra forma de encarar la solución.\n",
    "* **Los espacios de nombres son una gran idea, ¡Tengamos más de esos! (namespaces):**\n",
    "Es el nombre que se ha indicado luego de la palabra import, es decir la ruta (namespace) del módulo. (Lo veremos a profundidad más adelante).\n"
   ]
  },
  {
   "cell_type": "code",
   "execution_count": 1,
   "metadata": {},
   "outputs": [
    {
     "name": "stdout",
     "output_type": "stream",
     "text": [
      "The Zen of Python, by Tim Peters\n",
      "\n",
      "Beautiful is better than ugly.\n",
      "Explicit is better than implicit.\n",
      "Simple is better than complex.\n",
      "Complex is better than complicated.\n",
      "Flat is better than nested.\n",
      "Sparse is better than dense.\n",
      "Readability counts.\n",
      "Special cases aren't special enough to break the rules.\n",
      "Although practicality beats purity.\n",
      "Errors should never pass silently.\n",
      "Unless explicitly silenced.\n",
      "In the face of ambiguity, refuse the temptation to guess.\n",
      "There should be one-- and preferably only one --obvious way to do it.\n",
      "Although that way may not be obvious at first unless you're Dutch.\n",
      "Now is better than never.\n",
      "Although never is often better than *right* now.\n",
      "If the implementation is hard to explain, it's a bad idea.\n",
      "If the implementation is easy to explain, it may be a good idea.\n",
      "Namespaces are one honking great idea -- let's do more of those!\n"
     ]
    }
   ],
   "source": [
    "# Ver el Zen de Python\n",
    "import this"
   ]
  },
  {
   "cell_type": "markdown",
   "metadata": {},
   "source": [
    "\n",
    "## ¿Qué es la documentación?\n",
    "**La documentación es la biblia de cualquier programador**\n",
    "\n",
    "\n",
    "\n",
    "Consulta la documentación: https://docs.python.org/3/ \n",
    "\n",
    "### Guia de estilos de Python:\n",
    "Como debemos escribir Python, todas las buenas practicas para hacer que la programación sea correcta.\n",
    "\n",
    "* Nunca mezcles tabulaciones y espacios.\n",
    "* Limita todas la líneas a un máximo de 79 caracteres.\n",
    "* Evite los espacios en blanco extraños en las siguientes situaciones:\n",
    "    * Inmediatamente dentro de paréntesis, corchetes o llaves.\n",
    "    * Entre una coma final y un paréntesis cerrado siguiente.\n",
    "    * Inmediatamente antes de una coma, punto y coma o dos puntos.\n",
    "\n",
    "https://peps.python.org/pep-0008/\n",
    "\n",
    "\n",
    "\n",
    "*Nota:* si estas estudiando de este repositorio, ve a la guia de estilos... y agrega la recomendación que más te llamo la atención o te es de utilidad.\n"
   ]
  },
  {
   "cell_type": "code",
   "execution_count": 1,
   "metadata": {},
   "outputs": [],
   "source": [
    "p = 'petróleo'   \n",
    "p_new = p.maketrans('áéíóú','aeiou') \n",
    "p = p.translate(p_new)"
   ]
  },
  {
   "cell_type": "markdown",
   "metadata": {},
   "source": []
  }
 ],
 "metadata": {
  "kernelspec": {
   "display_name": "Python 3.8.3 ('base')",
   "language": "python",
   "name": "python3"
  },
  "language_info": {
   "codemirror_mode": {
    "name": "ipython",
    "version": 3
   },
   "file_extension": ".py",
   "mimetype": "text/x-python",
   "name": "python",
   "nbconvert_exporter": "python",
   "pygments_lexer": "ipython3",
   "version": "3.8.3"
  },
  "orig_nbformat": 4,
  "vscode": {
   "interpreter": {
    "hash": "ad2bdc8ecc057115af97d19610ffacc2b4e99fae6737bb82f5d7fb13d2f2c186"
   }
  }
 },
 "nbformat": 4,
 "nbformat_minor": 2
}
